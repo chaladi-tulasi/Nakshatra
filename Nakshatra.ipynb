{
  "nbformat": 4,
  "nbformat_minor": 0,
  "metadata": {
    "colab": {
      "provenance": []
    },
    "kernelspec": {
      "name": "python3",
      "display_name": "Python 3"
    },
    "language_info": {
      "name": "python"
    }
  },
  "cells": [
    {
      "cell_type": "code",
      "execution_count": 1,
      "metadata": {
        "colab": {
          "base_uri": "https://localhost:8080/"
        },
        "id": "87dlvSldN9s5",
        "outputId": "c769f693-4952-45d1-e403-5cd4c69d8bbb"
      },
      "outputs": [
        {
          "output_type": "stream",
          "name": "stdout",
          "text": [
            "Requirement already satisfied: torch in /usr/local/lib/python3.10/dist-packages (2.4.1+cu121)\n",
            "Requirement already satisfied: torchvision in /usr/local/lib/python3.10/dist-packages (0.19.1+cu121)\n",
            "Requirement already satisfied: matplotlib in /usr/local/lib/python3.10/dist-packages (3.7.1)\n",
            "Requirement already satisfied: filelock in /usr/local/lib/python3.10/dist-packages (from torch) (3.16.1)\n",
            "Requirement already satisfied: typing-extensions>=4.8.0 in /usr/local/lib/python3.10/dist-packages (from torch) (4.12.2)\n",
            "Requirement already satisfied: sympy in /usr/local/lib/python3.10/dist-packages (from torch) (1.13.3)\n",
            "Requirement already satisfied: networkx in /usr/local/lib/python3.10/dist-packages (from torch) (3.3)\n",
            "Requirement already satisfied: jinja2 in /usr/local/lib/python3.10/dist-packages (from torch) (3.1.4)\n",
            "Requirement already satisfied: fsspec in /usr/local/lib/python3.10/dist-packages (from torch) (2024.6.1)\n",
            "Requirement already satisfied: numpy in /usr/local/lib/python3.10/dist-packages (from torchvision) (1.26.4)\n",
            "Requirement already satisfied: pillow!=8.3.*,>=5.3.0 in /usr/local/lib/python3.10/dist-packages (from torchvision) (10.4.0)\n",
            "Requirement already satisfied: contourpy>=1.0.1 in /usr/local/lib/python3.10/dist-packages (from matplotlib) (1.3.0)\n",
            "Requirement already satisfied: cycler>=0.10 in /usr/local/lib/python3.10/dist-packages (from matplotlib) (0.12.1)\n",
            "Requirement already satisfied: fonttools>=4.22.0 in /usr/local/lib/python3.10/dist-packages (from matplotlib) (4.54.1)\n",
            "Requirement already satisfied: kiwisolver>=1.0.1 in /usr/local/lib/python3.10/dist-packages (from matplotlib) (1.4.7)\n",
            "Requirement already satisfied: packaging>=20.0 in /usr/local/lib/python3.10/dist-packages (from matplotlib) (24.1)\n",
            "Requirement already satisfied: pyparsing>=2.3.1 in /usr/local/lib/python3.10/dist-packages (from matplotlib) (3.1.4)\n",
            "Requirement already satisfied: python-dateutil>=2.7 in /usr/local/lib/python3.10/dist-packages (from matplotlib) (2.8.2)\n",
            "Requirement already satisfied: six>=1.5 in /usr/local/lib/python3.10/dist-packages (from python-dateutil>=2.7->matplotlib) (1.16.0)\n",
            "Requirement already satisfied: MarkupSafe>=2.0 in /usr/local/lib/python3.10/dist-packages (from jinja2->torch) (2.1.5)\n",
            "Requirement already satisfied: mpmath<1.4,>=1.1.0 in /usr/local/lib/python3.10/dist-packages (from sympy->torch) (1.3.0)\n"
          ]
        }
      ],
      "source": [
        "!pip install torch torchvision matplotlib\n",
        "import torch\n",
        "import torchvision\n",
        "import matplotlib.pyplot as plt\n",
        "import numpy as np"
      ]
    },
    {
      "cell_type": "code",
      "source": [
        "import cv2\n",
        "import numpy as np\n",
        "\n",
        "def normalize_image(image):\n",
        "    image = (image - np.min(image)) / (np.max(image) - np.min(image)) * 255\n",
        "    return image.astype(np.uint8)\n",
        "\n",
        "image = cv2.imread('/content/drive/MyDrive/AstroSR-main/dataset/HSC_train_HR/0.46565214_1.5316281.png')\n",
        "normalized_image = normalize_image(image)\n"
      ],
      "metadata": {
        "id": "7UHaLHxNOWpK"
      },
      "execution_count": 2,
      "outputs": []
    },
    {
      "cell_type": "code",
      "source": [
        "import torch\n",
        "import torch.nn as nn\n",
        "import torch.optim as optim\n",
        "from torch.utils.data import DataLoader, Dataset\n",
        "from torchvision import transforms\n",
        "from PIL import Image\n",
        "import os\n",
        "\n",
        "class EDSR(nn.Module):\n",
        "    def __init__(self):\n",
        "        super(EDSR, self).__init__()\n",
        "        self.residual_layer = nn.Sequential(\n",
        "            nn.Conv2d(3, 64, kernel_size=3, stride=1, padding=1),\n",
        "            nn.ReLU(inplace=True),\n",
        "            nn.Conv2d(64, 3, kernel_size=3, stride=1, padding=1)\n",
        "        )\n",
        "    def forward(self, x):\n",
        "        return self.residual_layer(x)\n",
        "\n",
        "model = EDSR()\n",
        "criterion = nn.MSELoss()\n",
        "optimizer = optim.Adam(model.parameters(), lr=1e-4)\n",
        "\n",
        "def train(model, train_loader, criterion, optimizer, epochs=5):\n",
        "    model.train()\n",
        "    for epoch in range(epochs):\n",
        "        for batch in train_loader:\n",
        "            optimizer.zero_grad()\n",
        "            inputs, targets = batch\n",
        "            outputs = model(inputs)\n",
        "            loss = criterion(outputs, targets)\n",
        "            loss.backward()\n",
        "            optimizer.step()"
      ],
      "metadata": {
        "id": "JDp6UpQ5O1FJ"
      },
      "execution_count": 35,
      "outputs": []
    },
    {
      "cell_type": "code",
      "source": [
        "import os\n",
        "from glob import glob\n",
        "\n",
        "lr_image_path = '/content/drive/MyDrive/AstroSR-main/dataset/SDSS_train_LR/**/*'\n",
        "hr_image_path = '/content/drive/MyDrive/AstroSR-main/dataset/HSC_train_HR/**/*'\n",
        "\n",
        "lr_images = sorted(glob(lr_image_path, recursive=True))\n",
        "hr_images = sorted(glob(hr_image_path, recursive=True))\n",
        "\n",
        "print(len(lr_images))\n",
        "print(len(hr_images))\n",
        "\n",
        "print(f\"Found {len(lr_images)} low-res images and {len(hr_images)} high-res images\")"
      ],
      "metadata": {
        "colab": {
          "base_uri": "https://localhost:8080/"
        },
        "id": "vPa4P_1oeMDN",
        "outputId": "07e9cb6e-b68a-49c9-8315-a7ea49380542"
      },
      "execution_count": 12,
      "outputs": [
        {
          "output_type": "stream",
          "name": "stdout",
          "text": [
            "2001\n",
            "2000\n",
            "Found 2001 low-res images and 2000 high-res images\n"
          ]
        }
      ]
    },
    {
      "cell_type": "code",
      "source": [
        "from glob import glob\n",
        "import os\n",
        "from torch.utils.data import DataLoader, Dataset\n",
        "from torchvision import transforms\n",
        "from PIL import Image\n",
        "\n",
        "class GalaxyDataset(Dataset):\n",
        "    def __init__(self, lr_image_paths, hr_image_paths, transform=None):\n",
        "        self.lr_image_paths = lr_image_paths\n",
        "        self.hr_image_paths = hr_image_paths\n",
        "        self.transform = transform\n",
        "\n",
        "    def __len__(self):\n",
        "        return len(self.lr_image_paths)\n",
        "\n",
        "    def __getitem__(self, idx):\n",
        "        lr_image = Image.open(self.lr_image_paths[idx]).convert('RGB')\n",
        "        hr_image = Image.open(self.hr_image_paths[idx]).convert('RGB')\n",
        "\n",
        "        if self.transform:\n",
        "            lr_image = self.transform(lr_image)\n",
        "            hr_image = self.transform(hr_image)\n",
        "\n",
        "        return lr_image, hr_image\n",
        "\n",
        "lr_image_path = '/content/drive/MyDrive/AstroSR-main/dataset/SDSS_train_LR/**/*'\n",
        "hr_image_path = '/content/drive/MyDrive/AstroSR-main/dataset/HSC_train_HR/**/*'\n",
        "\n",
        "lr_images = sorted(glob(lr_image_path, recursive=True))\n",
        "hr_images = sorted(glob(hr_image_path, recursive=True))\n",
        "\n",
        "if len(lr_images) == 0 or len(hr_images) == 0:\n",
        "    raise ValueError(\"No images found. Check the image paths.\")\n",
        "\n",
        "transform = transforms.Compose([transforms.ToTensor()])\n",
        "dataset = GalaxyDataset(lr_images, hr_images, transform)\n",
        "train_loader = DataLoader(dataset, batch_size=16, shuffle=True)\n",
        "\n",
        "\n",
        "\n",
        "test_lr_image_path = '/content/drive/MyDrive/AstroSR-main/dataset/SDSS_test_LR/**/*'\n",
        "test_hr_image_path = '/content/drive/MyDrive/AstroSR-main/dataset/HSC_test_HR/**/*'\n",
        "\n",
        "test_lr_images = sorted(glob(test_lr_image_path, recursive=True))\n",
        "test_hr_images = sorted(glob(test_hr_image_path, recursive=True))\n",
        "test_dataset = GalaxyDataset(test_lr_images, test_hr_images, transform)\n",
        "test_loader = DataLoader(test_dataset, batch_size=16, shuffle=False)"
      ],
      "metadata": {
        "id": "9MrpYyqH3cPW"
      },
      "execution_count": 36,
      "outputs": []
    },
    {
      "cell_type": "code",
      "source": [
        "import math\n",
        "from skimage.metrics import structural_similarity as ssim\n",
        "\n",
        "def calculate_psnr(hr_image, sr_image):\n",
        "    mse = np.mean((hr_image - sr_image) ** 2)\n",
        "    if mse == 0:\n",
        "        return float('inf')\n",
        "    return 20 * math.log10(255.0 / math.sqrt(mse))\n",
        "\n",
        "def calculate_ssim(hr_image, sr_image):\n",
        "    return ssim(hr_image, sr_image, multichannel=True)"
      ],
      "metadata": {
        "id": "bRsPFCNwe9eI"
      },
      "execution_count": 17,
      "outputs": []
    },
    {
      "cell_type": "code",
      "source": [
        "import os\n",
        "from glob import glob\n",
        "from PIL import Image\n",
        "from torch.utils.data import Dataset\n",
        "\n",
        "class GalaxyDataset(Dataset):\n",
        "    def __init__(self, lr_dir, hr_dir, transform=None):\n",
        "        self.lr_images = sorted(glob(os.path.join(lr_dir, '*')))\n",
        "        self.hr_images = sorted(glob(os.path.join(hr_dir, '*')))\n",
        "\n",
        "        if len(self.lr_images) != len(self.hr_images):\n",
        "            raise ValueError(\"Mismatch: The number of low-res and high-res images must be the same.\")\n",
        "\n",
        "        self.transform = transform\n",
        "\n",
        "    def __len__(self):\n",
        "        return len(self.lr_images)\n",
        "\n",
        "    def __getitem__(self, idx):\n",
        "        lr_image = Image.open(self.lr_images[idx])\n",
        "        hr_image = Image.open(self.hr_images[idx])\n",
        "\n",
        "        if self.transform:\n",
        "            lr_image = self.transform(lr_image)\n",
        "            hr_image = self.transform(hr_image)\n",
        "\n",
        "        return lr_image, hr_image\n",
        "\n",
        "\n",
        "lr_test_dir = '/content/drive/MyDrive/AstroSR-main/dataset/SDSS_test_LR/X2'\n",
        "hr_test_dir = '/content/drive/MyDrive/AstroSR-main/dataset/HSC_test_HR'\n",
        "transform = transforms.Compose([transforms.ToTensor()])\n",
        "test_dataset = GalaxyDataset(lr_test_dir, hr_test_dir, transform)\n",
        "test_loader = DataLoader(test_dataset, batch_size=16, shuffle=False)\n"
      ],
      "metadata": {
        "id": "boaHe2OQ31pV"
      },
      "execution_count": 26,
      "outputs": []
    },
    {
      "cell_type": "code",
      "source": [
        "def calculate_ssim(hr_image, sr_image):\n",
        "    sr_image_upsampled = F.interpolate(torch.from_numpy(sr_image), size=hr_image.shape[2:], mode='bilinear', align_corners=False)\n",
        "\n",
        "    sr_image_upsampled_np = sr_image_upsampled.numpy()\n",
        "\n",
        "    batch_size = hr_image.shape[0]\n",
        "    ssim_values = []\n",
        "\n",
        "    for i in range(batch_size):\n",
        "        hr_img = hr_image[i].transpose(1, 2, 0)\n",
        "        sr_img = sr_image_upsampled_np[i].transpose(1, 2, 0)\n",
        "\n",
        "        ssim_value = ssim(hr_img, sr_img, win_size=3, channel_axis=-1)\n",
        "        ssim_values.append(ssim_value)\n",
        "\n",
        "    return np.mean(ssim_values)\n"
      ],
      "metadata": {
        "id": "8Lkdl2oV5FOc"
      },
      "execution_count": 37,
      "outputs": []
    },
    {
      "cell_type": "code",
      "source": [
        "model.eval()\n",
        "test_psnr = []\n",
        "test_ssim = []\n",
        "\n",
        "with torch.no_grad():\n",
        "    for batch in test_loader:\n",
        "        inputs, targets = batch\n",
        "        outputs = model(inputs)\n",
        "\n",
        "        targets_np = targets.numpy()\n",
        "        outputs_np = outputs.numpy()\n",
        "\n",
        "        psnr_value = calculate_psnr(targets_np, outputs_np)\n",
        "        ssim_value = calculate_ssim(targets_np, outputs_np)\n",
        "\n",
        "        test_psnr.append(psnr_value)\n",
        "        test_ssim.append(ssim_value)\n",
        "\n",
        "print(f\"Average PSNR: {np.mean(test_psnr)}\")\n",
        "print(f\"Average SSIM: {np.mean(test_ssim)}\")\n"
      ],
      "metadata": {
        "id": "QJdi_4evKEDk"
      },
      "execution_count": null,
      "outputs": []
    }
  ]
}